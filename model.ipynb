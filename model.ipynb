{
 "cells": [
  {
   "cell_type": "markdown",
   "metadata": {},
   "source": [
    "# Linear Regression\n",
    "\n",
    "A module to implement the gradient descent algorithm for linear regression with multiple variables."
   ]
  },
  {
   "cell_type": "code",
   "execution_count": 1,
   "metadata": {},
   "outputs": [],
   "source": [
    "import pandas as pd\n",
    "import numpy as np"
   ]
  },
  {
   "cell_type": "code",
   "execution_count": 2,
   "metadata": {},
   "outputs": [],
   "source": [
    "class LinReg:\n",
    "    def __init__(self, x, y):\n",
    "        \"\"\"\n",
    "        x: a dataframe of the independent variables\n",
    "        y: the dependent variable\n",
    "        \"\"\"\n",
    "        # randomly initialise the coefficients\n",
    "        self.theta = np.array([0,0])\n",
    "        \n",
    "        # prepend column of ones onto the vector x to allow vectorization\n",
    "        self.x = x\n",
    "        self.x.insert(0, 'x0', 1)\n",
    "        self.y = y\n",
    "        \n",
    "    def predict(self, x=None):\n",
    "        \"\"\"\n",
    "        returns the prediction for input vector x\n",
    "        \"\"\"\n",
    "        if x is None:   \n",
    "            x = self.x\n",
    "            \n",
    "        return x.dot(self.theta)\n",
    "    \n",
    "    def compute_cost(self, i):\n",
    "        \"\"\"\n",
    "        compute cost based on current value of theta\n",
    "        \"\"\"\n",
    "        cost = (1/2*len(self.x)) * ((self.predict()-self.y)**2).sum()\n",
    "        # print(f'Iteration {i}: {cost}')\n",
    "        \n",
    "    def gradient_descent(self, lr, num_iters):\n",
    "        for i in range(num_iters):\n",
    "            # gradient descent update rule\n",
    "            gradient = (self.predict()-self.y).T.dot(self.x)\n",
    "            temp = lr*(1/len(self.x))*gradient\n",
    "        \n",
    "            self.theta = self.theta - np.array(temp)\n",
    "            self.compute_cost(i)\n",
    "            "
   ]
  },
  {
   "cell_type": "markdown",
   "metadata": {},
   "source": [
    "## Data Preparation\n"
   ]
  },
  {
   "cell_type": "code",
   "execution_count": 3,
   "metadata": {},
   "outputs": [],
   "source": [
    "path = 'data/restaurant.csv'"
   ]
  },
  {
   "cell_type": "code",
   "execution_count": 4,
   "metadata": {},
   "outputs": [
    {
     "data": {
      "text/html": [
       "<div>\n",
       "<style scoped>\n",
       "    .dataframe tbody tr th:only-of-type {\n",
       "        vertical-align: middle;\n",
       "    }\n",
       "\n",
       "    .dataframe tbody tr th {\n",
       "        vertical-align: top;\n",
       "    }\n",
       "\n",
       "    .dataframe thead th {\n",
       "        text-align: right;\n",
       "    }\n",
       "</style>\n",
       "<table border=\"1\" class=\"dataframe\">\n",
       "  <thead>\n",
       "    <tr style=\"text-align: right;\">\n",
       "      <th></th>\n",
       "      <th>population</th>\n",
       "      <th>profit</th>\n",
       "    </tr>\n",
       "  </thead>\n",
       "  <tbody>\n",
       "    <tr>\n",
       "      <th>0</th>\n",
       "      <td>6.1101</td>\n",
       "      <td>17.5920</td>\n",
       "    </tr>\n",
       "    <tr>\n",
       "      <th>1</th>\n",
       "      <td>5.5277</td>\n",
       "      <td>9.1302</td>\n",
       "    </tr>\n",
       "    <tr>\n",
       "      <th>2</th>\n",
       "      <td>8.5186</td>\n",
       "      <td>13.6620</td>\n",
       "    </tr>\n",
       "    <tr>\n",
       "      <th>3</th>\n",
       "      <td>7.0032</td>\n",
       "      <td>11.8540</td>\n",
       "    </tr>\n",
       "    <tr>\n",
       "      <th>4</th>\n",
       "      <td>5.8598</td>\n",
       "      <td>6.8233</td>\n",
       "    </tr>\n",
       "  </tbody>\n",
       "</table>\n",
       "</div>"
      ],
      "text/plain": [
       "   population   profit\n",
       "0      6.1101  17.5920\n",
       "1      5.5277   9.1302\n",
       "2      8.5186  13.6620\n",
       "3      7.0032  11.8540\n",
       "4      5.8598   6.8233"
      ]
     },
     "execution_count": 4,
     "metadata": {},
     "output_type": "execute_result"
    }
   ],
   "source": [
    "data = pd.read_csv(f'{path}')\n",
    "data.head()"
   ]
  },
  {
   "cell_type": "markdown",
   "metadata": {},
   "source": [
    "Separate data into training and validation sets"
   ]
  },
  {
   "cell_type": "code",
   "execution_count": 5,
   "metadata": {},
   "outputs": [],
   "source": [
    "# randomly shuffle dataframe\n",
    "data = data.sample(frac=1)\n",
    "data.reset_index(drop=True, inplace=True)\n",
    "\n",
    "train_ratio = 0.80\n",
    "train_size = int(train_ratio*len(data))\n",
    "train = data.iloc[:train_size].copy()\n",
    "valid = data.iloc[train_size:].copy()\n",
    "\n",
    "train_y = train.profit\n",
    "train_x = train.drop(labels='profit', axis=1)\n",
    "\n",
    "valid_y = valid.profit\n",
    "valid_x = valid.drop(labels='profit', axis=1)\n",
    "valid_x.insert(0, 'x0', 1)"
   ]
  },
  {
   "cell_type": "code",
   "execution_count": 15,
   "metadata": {},
   "outputs": [],
   "source": [
    "model = LinReg(train_x, train_y)"
   ]
  },
  {
   "cell_type": "code",
   "execution_count": 16,
   "metadata": {},
   "outputs": [],
   "source": [
    "model.gradient_descent(0.02, 13000)"
   ]
  },
  {
   "cell_type": "code",
   "execution_count": 17,
   "metadata": {},
   "outputs": [
    {
     "data": {
      "text/plain": [
       "array([-3.57336581,  1.17387157])"
      ]
     },
     "execution_count": 17,
     "metadata": {},
     "output_type": "execute_result"
    }
   ],
   "source": [
    "model.theta"
   ]
  },
  {
   "cell_type": "code",
   "execution_count": 18,
   "metadata": {},
   "outputs": [],
   "source": [
    "preds = model.predict(valid_x)"
   ]
  },
  {
   "cell_type": "code",
   "execution_count": 19,
   "metadata": {},
   "outputs": [
    {
     "data": {
      "text/plain": [
       "77     2.360085\n",
       "78     2.906875\n",
       "79    20.304356\n",
       "80     4.075464\n",
       "81     3.048092\n",
       "82     3.007710\n",
       "83    10.160932\n",
       "84     3.157614\n",
       "85    22.490105\n",
       "86     9.288745\n",
       "87     6.424733\n",
       "88     2.959112\n",
       "89     4.753023\n",
       "90     3.151979\n",
       "91     5.275982\n",
       "92     5.277861\n",
       "93     2.808857\n",
       "94     3.342851\n",
       "95     7.355613\n",
       "96     2.338838\n",
       "dtype: float64"
      ]
     },
     "execution_count": 19,
     "metadata": {},
     "output_type": "execute_result"
    }
   ],
   "source": [
    "preds"
   ]
  },
  {
   "cell_type": "code",
   "execution_count": 20,
   "metadata": {},
   "outputs": [
    {
     "data": {
      "text/plain": [
       "77     3.81660\n",
       "78     0.15200\n",
       "79    20.99200\n",
       "80     5.34360\n",
       "81     0.71618\n",
       "82     3.39280\n",
       "83     8.00430\n",
       "84     3.15510\n",
       "85    24.14700\n",
       "86     7.04670\n",
       "87     4.24150\n",
       "88     3.08250\n",
       "89     1.04630\n",
       "90     0.47953\n",
       "91     3.88450\n",
       "92     6.75040\n",
       "93     0.61705\n",
       "94     1.84950\n",
       "95     3.96240\n",
       "96     5.70140\n",
       "Name: profit, dtype: float64"
      ]
     },
     "execution_count": 20,
     "metadata": {},
     "output_type": "execute_result"
    }
   ],
   "source": [
    "valid_y"
   ]
  },
  {
   "cell_type": "code",
   "execution_count": 14,
   "metadata": {},
   "outputs": [],
   "source": [
    "train_x.drop(labels='x0', axis=1, inplace=True)"
   ]
  },
  {
   "cell_type": "code",
   "execution_count": null,
   "metadata": {},
   "outputs": [],
   "source": []
  }
 ],
 "metadata": {
  "kernelspec": {
   "display_name": "Python 3",
   "language": "python",
   "name": "python3"
  },
  "language_info": {
   "codemirror_mode": {
    "name": "ipython",
    "version": 3
   },
   "file_extension": ".py",
   "mimetype": "text/x-python",
   "name": "python",
   "nbconvert_exporter": "python",
   "pygments_lexer": "ipython3",
   "version": "3.6.4"
  }
 },
 "nbformat": 4,
 "nbformat_minor": 2
}
